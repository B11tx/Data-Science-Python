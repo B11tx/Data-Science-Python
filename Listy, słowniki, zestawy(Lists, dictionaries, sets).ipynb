{
 "cells": [
  {
   "cell_type": "code",
   "execution_count": 5,
   "id": "d609ead7-0448-4aad-ae74-37e696118f4d",
   "metadata": {},
   "outputs": [
    {
     "name": "stdout",
     "output_type": "stream",
     "text": [
      "Drugi owoc: banan\n",
      "Średnia: 18.0\n",
      "name : Ala\n",
      "age : 22\n"
     ]
    }
   ],
   "source": [
    "\n",
    "fruits = [\"jabłko\", \"banan\", \"malina\"]\n",
    "person = {\"name\": \"Ala\", \"age\": 22}\n",
    "numbers = {1, 2, 3, 3}\n",
    "\n",
    "\n",
    "fruits.append(\"gruszka\")\n",
    "\n",
    "drugi_owoc = fruits[1]\n",
    "print(\"Drugi owoc:\", drugi_owoc)\n",
    "\n",
    "nums = [4, 8, 15, 16, 23, 42]\n",
    "srednia = sum(nums) / len(nums)\n",
    "print(\"Średnia:\", srednia)\n",
    "\n",
    "for key, value in person.items():\n",
    "    print(key, \":\", value)\n"
   ]
  },
  {
   "cell_type": "code",
   "execution_count": null,
   "id": "e0ee36f7-8ece-44c2-9dec-c65aa181e9f4",
   "metadata": {},
   "outputs": [],
   "source": []
  }
 ],
 "metadata": {
  "kernelspec": {
   "display_name": "Python 3 (ipykernel)",
   "language": "python",
   "name": "python3"
  },
  "language_info": {
   "codemirror_mode": {
    "name": "ipython",
    "version": 3
   },
   "file_extension": ".py",
   "mimetype": "text/x-python",
   "name": "python",
   "nbconvert_exporter": "python",
   "pygments_lexer": "ipython3",
   "version": "3.13.5"
  }
 },
 "nbformat": 4,
 "nbformat_minor": 5
}
