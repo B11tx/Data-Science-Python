{
 "cells": [
  {
   "cell_type": "code",
   "execution_count": 1,
   "id": "2b980a04-5b93-4640-83c6-ec73dda18bec",
   "metadata": {},
   "outputs": [
    {
     "data": {
      "text/plain": [
       "int"
      ]
     },
     "execution_count": 1,
     "metadata": {},
     "output_type": "execute_result"
    }
   ],
   "source": [
    "a = 10 \n",
    "\n",
    "b = 3.5 \n",
    "\n",
    "c = \"Python\" \n",
    "\n",
    "d = True \n",
    "\n",
    "type(a)"
   ]
  },
  {
   "cell_type": "code",
   "execution_count": 3,
   "id": "3aa22c3c-ef13-408d-a5bb-87d9fc2865bb",
   "metadata": {},
   "outputs": [
    {
     "name": "stdout",
     "output_type": "stream",
     "text": [
      "10\n",
      "3.5\n",
      "Python\n",
      "True\n"
     ]
    }
   ],
   "source": [
    "a = 10 \n",
    "\n",
    "b = 3.5 \n",
    "\n",
    "c = \"Python\" \n",
    "\n",
    "d = True \n",
    "\n",
    "type(a)\n",
    "print(a)\n",
    "type(b)\n",
    "print(b)\n",
    "type(c)\n",
    "print(c)\n",
    "type(d)\n",
    "print(d)"
   ]
  },
  {
   "cell_type": "code",
   "execution_count": 4,
   "id": "77f4de20-4c94-47bf-a759-2b339e7fafc6",
   "metadata": {},
   "outputs": [
    {
     "name": "stdout",
     "output_type": "stream",
     "text": [
      "Typ zmiennej a: <class 'int'>\n",
      "Typ zmiennej b: <class 'float'>\n",
      "Typ zmiennej c: <class 'str'>\n",
      "Typ zmiennej d: <class 'bool'>\n",
      "Dodawanie a + b = 13.5\n",
      "Dzielenie a / b = 2.857142857142857\n",
      "Potęgowanie a ** b = 3162.2776601683795\n",
      "Wartość a to 10, a b to 3.5\n",
      "Nazwa języka Python, a wartość logiczna d to True\n"
     ]
    }
   ],
   "source": [
    "\n",
    "a = 10\n",
    "b = 3.5\n",
    "c = \"Python\"\n",
    "d = True\n",
    "\n",
    "print(\"Typ zmiennej a:\", type(a))\n",
    "print(\"Typ zmiennej b:\", type(b))\n",
    "print(\"Typ zmiennej c:\", type(c))\n",
    "print(\"Typ zmiennej d:\", type(d))\n",
    "\n",
    "print(\"Dodawanie a + b =\", a + b)\n",
    "print(\"Dzielenie a / b =\", a / b)\n",
    "print(\"Potęgowanie a ** b =\", a ** b)\n",
    "\n",
    "print(f\"Wartość a to {a}, a b to {b}\")\n",
    "\n",
    "\n",
    "print(f\"Nazwa języka {c}, a wartość logiczna d to {d}\")\n"
   ]
  },
  {
   "cell_type": "code",
   "execution_count": null,
   "id": "f22849ea-a832-4ddf-adac-6d0a33e2ca15",
   "metadata": {},
   "outputs": [],
   "source": []
  }
 ],
 "metadata": {
  "kernelspec": {
   "display_name": "Python 3 (ipykernel)",
   "language": "python",
   "name": "python3"
  },
  "language_info": {
   "codemirror_mode": {
    "name": "ipython",
    "version": 3
   },
   "file_extension": ".py",
   "mimetype": "text/x-python",
   "name": "python",
   "nbconvert_exporter": "python",
   "pygments_lexer": "ipython3",
   "version": "3.13.5"
  }
 },
 "nbformat": 4,
 "nbformat_minor": 5
}
