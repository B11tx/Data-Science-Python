{
 "cells": [
  {
   "cell_type": "code",
   "execution_count": 2,
   "id": "65f02d7b-2c33-4a75-a4ae-b753c68e438c",
   "metadata": {},
   "outputs": [
    {
     "name": "stdin",
     "output_type": "stream",
     "text": [
      "Podaj liczbę:  5\n"
     ]
    },
    {
     "name": "stdout",
     "output_type": "stream",
     "text": [
      "Liczba jest nieparzysta\n"
     ]
    }
   ],
   "source": [
    "#Parzysta czy nieparzysta\n",
    "number = int(input(\"Podaj liczbę: \"))\n",
    "\n",
    "if number % 2 == 0:\n",
    "    print(\"Liczba jest parzysta\")\n",
    "else:\n",
    "    print(\"Liczba jest nieparzysta\")\n"
   ]
  },
  {
   "cell_type": "code",
   "execution_count": 3,
   "id": "7e4a5915-ba25-436c-9a3c-ad0dd2f8ac99",
   "metadata": {},
   "outputs": [
    {
     "name": "stdout",
     "output_type": "stream",
     "text": [
      "1\n",
      "2\n",
      "3\n",
      "4\n",
      "5\n",
      "6\n",
      "7\n",
      "8\n",
      "9\n",
      "10\n"
     ]
    }
   ],
   "source": [
    "#Wypisanie liczb od 1 do 10\n",
    "for i in range(1, 11):\n",
    "    print(i)\n"
   ]
  },
  {
   "cell_type": "code",
   "execution_count": 4,
   "id": "1a32301f-964d-4eb3-9a90-79bad8dcc6ab",
   "metadata": {},
   "outputs": [
    {
     "name": "stdout",
     "output_type": "stream",
     "text": [
      "Iteracja 1\n",
      "Iteracja 2\n",
      "Iteracja 3\n",
      "Iteracja 4\n",
      "Iteracja 5\n"
     ]
    }
   ],
   "source": [
    "# 3. Pętla while \n",
    "i = 1\n",
    "while i <= 5:\n",
    "    print(\"Iteracja\", i)\n",
    "    i += 1\n"
   ]
  },
  {
   "cell_type": "code",
   "execution_count": 5,
   "id": "e5ab5e65-4419-4aa8-918e-b7d44f813939",
   "metadata": {},
   "outputs": [
    {
     "name": "stdout",
     "output_type": "stream",
     "text": [
      "1\n",
      "2\n",
      "3\n",
      "4\n",
      "5\n"
     ]
    }
   ],
   "source": [
    "#3.Albo uzycie rekurencji\n",
    "def wypisz_rekurencyjnie(n, max_n):\n",
    "    if n > max_n:\n",
    "        return\n",
    "    print(n)\n",
    "    wypisz_rekurencyjnie(n + 1, max_n)\n",
    "\n",
    "wypisz_rekurencyjnie(1, 5)\n"
   ]
  },
  {
   "cell_type": "code",
   "execution_count": null,
   "id": "05224a56-57c5-47a0-814c-6187b8c76b28",
   "metadata": {},
   "outputs": [],
   "source": []
  }
 ],
 "metadata": {
  "kernelspec": {
   "display_name": "Python 3 (ipykernel)",
   "language": "python",
   "name": "python3"
  },
  "language_info": {
   "codemirror_mode": {
    "name": "ipython",
    "version": 3
   },
   "file_extension": ".py",
   "mimetype": "text/x-python",
   "name": "python",
   "nbconvert_exporter": "python",
   "pygments_lexer": "ipython3",
   "version": "3.13.5"
  }
 },
 "nbformat": 4,
 "nbformat_minor": 5
}
