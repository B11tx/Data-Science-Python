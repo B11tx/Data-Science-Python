{
 "cells": [
  {
   "cell_type": "code",
   "execution_count": null,
   "id": "39054418-771e-4e26-81b0-1f53955d553e",
   "metadata": {},
   "outputs": [],
   "source": [
    "#Oleh Kierunek Informatyka Niestacjonarne"
   ]
  },
  {
   "cell_type": "code",
   "execution_count": 1,
   "id": "5da00156-5c34-42a3-b452-ba53baf480b3",
   "metadata": {},
   "outputs": [
    {
     "name": "stdout",
     "output_type": "stream",
     "text": [
      "Hello, Data Science!\n"
     ]
    }
   ],
   "source": [
    "print(\"Hello, Data Science!\") "
   ]
  },
  {
   "cell_type": "markdown",
   "id": "37faeb87-e91f-43a5-859b-612485496c25",
   "metadata": {},
   "source": []
  }
 ],
 "metadata": {
  "kernelspec": {
   "display_name": "Python 3 (ipykernel)",
   "language": "python",
   "name": "python3"
  },
  "language_info": {
   "codemirror_mode": {
    "name": "ipython",
    "version": 3
   },
   "file_extension": ".py",
   "mimetype": "text/x-python",
   "name": "python",
   "nbconvert_exporter": "python",
   "pygments_lexer": "ipython3",
   "version": "3.13.5"
  }
 },
 "nbformat": 4,
 "nbformat_minor": 5
}
